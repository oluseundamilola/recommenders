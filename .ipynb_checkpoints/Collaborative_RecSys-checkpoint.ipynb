{
 "cells": [
  {
   "cell_type": "markdown",
   "id": "e2b4e7a2-1a9a-4fe0-997a-6934a68b7677",
   "metadata": {},
   "source": [
    "# Collaborative filtering \n",
    "## movie recommendation model"
   ]
  },
  {
   "cell_type": "code",
   "execution_count": 61,
   "id": "de415035-8a77-4015-8d7a-678afeb125dd",
   "metadata": {},
   "outputs": [],
   "source": [
    "import numpy as np\n",
    "import tensorflow as tf\n",
    "from tensorflow import keras\n",
    "import pandas as pd\n",
    "from numpy import loadtxt"
   ]
  },
  {
   "cell_type": "code",
   "execution_count": 62,
   "id": "5563ea2e-2686-4ab8-b0b0-b7429766c42c",
   "metadata": {},
   "outputs": [],
   "source": [
    "def get_movieFeatures_W_B_vectors():\n",
    "    file = open('./data/small_movies_X.csv', 'rb')\n",
    "    movie_features = loadtxt(file, delimiter = \",\")\n",
    "    \n",
    "    file = open('./data/small_movies_W.csv', 'rb')\n",
    "    W = loadtxt(file,delimiter = \",\")\n",
    "    \n",
    "    file = open('./data/small_movies_b.csv', 'rb')\n",
    "    b = loadtxt(file,delimiter = \",\")\n",
    "    b = b.reshape(1,-1)\n",
    "    num_movies, num_features = movie_features.shape\n",
    "    num_users,_ = W.shape\n",
    "    return(movie_features, W, b, num_movies, num_features, num_users)\n",
    "    "
   ]
  },
  {
   "cell_type": "code",
   "execution_count": 63,
   "id": "3ad1a773-efc6-4679-894d-73043f881fe2",
   "metadata": {},
   "outputs": [],
   "source": [
    "def load_ratings_small():\n",
    "    file = open('./data/small_movies_Y.csv', 'rb')\n",
    "    movie_ratings = loadtxt(file,delimiter = \",\")\n",
    "\n",
    "    file = open('./data/small_movies_R.csv', 'rb')\n",
    "    isRated = loadtxt(file,delimiter = \",\")\n",
    "    return(movie_ratings,isRated)"
   ]
  },
  {
   "cell_type": "code",
   "execution_count": 64,
   "id": "4680baf2-92a1-4125-a873-339d1c490607",
   "metadata": {},
   "outputs": [],
   "source": [
    "def load_Movie_List_pd():\n",
    "    \"\"\" returns df with and index of movies in the order they are in in the movie_features matrix \"\"\"\n",
    "    df = pd.read_csv('./data/small_movie_list.csv', header=0, index_col=0,  delimiter=',', quotechar='\"')\n",
    "    mlist = df[\"title\"].to_list()\n",
    "    return(mlist, df)"
   ]
  },
  {
   "cell_type": "code",
   "execution_count": 65,
   "id": "af34dc18-49d1-4420-b4ee-1bb901cd020d",
   "metadata": {},
   "outputs": [
    {
     "name": "stdout",
     "output_type": "stream",
     "text": [
      "Y (4778, 443) R (4778, 443)\n",
      "X (4778, 10)\n",
      "W (443, 10)\n",
      "b (1, 443)\n",
      "num_features 10\n",
      "num_movies 4778\n",
      "num_users 443\n"
     ]
    }
   ],
   "source": [
    "#Load data\n",
    "X, W, b, num_movies, num_features, num_users = get_movieFeatures_W_B_vectors()\n",
    "Y, R = load_ratings_small()\n",
    "\n",
    "print(\"Y\", Y.shape, \"R\", R.shape)\n",
    "print(\"X\", X.shape)\n",
    "print(\"W\", W.shape)\n",
    "print(\"b\", b.shape)\n",
    "print(\"num_features\", num_features)\n",
    "print(\"num_movies\",   num_movies)\n",
    "print(\"num_users\",    num_users)"
   ]
  },
  {
   "cell_type": "code",
   "execution_count": null,
   "id": "47b2d44c-8a3c-41b0-8823-1020da30a696",
   "metadata": {},
   "outputs": [],
   "source": []
  },
  {
   "cell_type": "markdown",
   "id": "5e72e45f-2aa4-4296-a682-c186a83728bd",
   "metadata": {},
   "source": [
    "### Getting cost using NumPy"
   ]
  },
  {
   "cell_type": "code",
   "execution_count": 66,
   "id": "3e737b74-0454-438f-97b0-a59ceecd9d87",
   "metadata": {},
   "outputs": [],
   "source": [
    "def cofi_cost_function(X, W, b, Y, R, lambda_):\n",
    "    nm, nu = Y.shape\n",
    "    J = 0\n",
    "    for user in range(nu):\n",
    "        w_j = W[user, :]\n",
    "        b_j = b[0, user]\n",
    "        for movie in range(nm):\n",
    "            x = X[movie, :]\n",
    "            y = Y[movie, user]\n",
    "            r = R[movie, user]\n",
    "            J += r * np.square(np.dot(w_j, x) + b_j - y)\n",
    "    J = J/2\n",
    "    J += (lambda_/2) * ( np.sum(np.square(W)) + np.sum(np.square(X)) )\n",
    "    return J\n",
    "    \n",
    "            \n",
    "    "
   ]
  },
  {
   "cell_type": "code",
   "execution_count": 67,
   "id": "178ce74f-cf90-4dd2-aae2-2c61ec619501",
   "metadata": {},
   "outputs": [
    {
     "name": "stdout",
     "output_type": "stream",
     "text": [
      "Cost: 13.67\n"
     ]
    }
   ],
   "source": [
    "# Reduce the data set size so that this runs faster\n",
    "num_users_r = 4\n",
    "num_movies_r = 5 \n",
    "num_features_r = 3\n",
    "\n",
    "X_r = X[:num_movies_r, :num_features_r]\n",
    "W_r = W[:num_users_r,  :num_features_r]\n",
    "b_r = b[0, :num_users_r].reshape(1,-1)\n",
    "Y_r = Y[:num_movies_r, :num_users_r]\n",
    "R_r = R[:num_movies_r, :num_users_r]\n",
    "\n",
    "# Evaluate cost function\n",
    "J = cofi_cost_function(X_r, W_r, b_r, Y_r, R_r, 0);\n",
    "print(f\"Cost: {J:0.2f}\")"
   ]
  },
  {
   "cell_type": "code",
   "execution_count": 68,
   "id": "35949bc1-516f-406f-8a01-c0bbf3d9cb0e",
   "metadata": {},
   "outputs": [
    {
     "name": "stdout",
     "output_type": "stream",
     "text": [
      "Cost (with regularization): 28.09\n"
     ]
    }
   ],
   "source": [
    "# Evaluate cost function with regularization \n",
    "J = cofi_cost_function(X_r, W_r, b_r, Y_r, R_r, 1.5);\n",
    "print(f\"Cost (with regularization): {J:0.2f}\")"
   ]
  },
  {
   "cell_type": "markdown",
   "id": "a51c0b84-e716-4e6b-ba37-625cced74483",
   "metadata": {},
   "source": [
    "### Getting cost using tensorFlow"
   ]
  },
  {
   "cell_type": "code",
   "execution_count": 69,
   "id": "d1fa5493-17c7-4d60-b4b8-b8859d693a6f",
   "metadata": {},
   "outputs": [],
   "source": [
    "def cofi_cost_func_with_tensorFlow(X, W, b, Y, R, lambda_):\n",
    "    j = (tf.linalg.matmul(X, tf.transpose(W)) + b - Y)*R\n",
    "    J = 0.5 * tf.reduce_sum(j**2) + (lambda_/2) * (tf.reduce_sum(X**2) + tf.reduce_sum(W**2))\n",
    "    return J"
   ]
  },
  {
   "cell_type": "code",
   "execution_count": 70,
   "id": "12ca774f-1094-41fd-a57c-617027505e80",
   "metadata": {},
   "outputs": [
    {
     "name": "stdout",
     "output_type": "stream",
     "text": [
      "Cost: 13.67\n",
      "Cost (with regularization): 28.09\n"
     ]
    }
   ],
   "source": [
    "# Evaluate cost function\n",
    "J = cofi_cost_func_with_tensorFlow(X_r, W_r, b_r, Y_r, R_r, 0);\n",
    "print(f\"Cost: {J:0.2f}\")\n",
    "\n",
    "# Evaluate cost function with regularization \n",
    "J = cofi_cost_func_with_tensorFlow(X_r, W_r, b_r, Y_r, R_r, 1.5);\n",
    "print(f\"Cost (with regularization): {J:0.2f}\")"
   ]
  },
  {
   "cell_type": "code",
   "execution_count": 71,
   "id": "b304a46a-eeb7-42c0-8389-68cf313a9a5f",
   "metadata": {},
   "outputs": [],
   "source": [
    "movieList, movieList_df = load_Movie_List_pd()"
   ]
  },
  {
   "cell_type": "markdown",
   "id": "a72746a1-bfc2-4eca-94c7-1bda8480b503",
   "metadata": {},
   "source": [
    "### Creating a new user called Alice who enjoys romance drama movies"
   ]
  },
  {
   "cell_type": "code",
   "execution_count": 72,
   "id": "7cf9910b-b8d5-4254-83af-b53eebfc6aca",
   "metadata": {},
   "outputs": [],
   "source": [
    "user1_alice = np.zeros(num_movies)      #  Initialize her ratings"
   ]
  },
  {
   "cell_type": "markdown",
   "id": "c8b0f262-a672-4b98-8a82-f151fbd06f0c",
   "metadata": {},
   "source": [
    "### user1_alice = np.zeros(num_movies)      #  Initialize her ratings"
   ]
  },
  {
   "cell_type": "code",
   "execution_count": 73,
   "id": "05bf3bba-6e4b-4a0d-843b-901aafef8747",
   "metadata": {},
   "outputs": [],
   "source": [
    "user2_bob = np.zeros(num_movies)      #  Initialize his ratings"
   ]
  },
  {
   "cell_type": "code",
   "execution_count": 74,
   "id": "55bce451-c000-49d1-9226-b047ab92b5a5",
   "metadata": {},
   "outputs": [
    {
     "data": {
      "text/plain": [
       "0.0"
      ]
     },
     "execution_count": 74,
     "metadata": {},
     "output_type": "execute_result"
    }
   ],
   "source": [
    "#Toy Story 3 (2010) has ID 2700, so to rate it \"5\", you can set\n",
    "user1_alice[2700]"
   ]
  },
  {
   "cell_type": "code",
   "execution_count": 75,
   "id": "43e67356-d128-49c9-a097-41ae209d78fe",
   "metadata": {},
   "outputs": [
    {
     "data": {
      "text/plain": [
       "0.0"
      ]
     },
     "execution_count": 75,
     "metadata": {},
     "output_type": "execute_result"
    }
   ],
   "source": [
    "user2_bob[2609]"
   ]
  },
  {
   "cell_type": "markdown",
   "id": "03842df7-ab8c-44b5-9a8b-d103b38a7e42",
   "metadata": {},
   "source": [
    "### Movies Alice enjoys"
   ]
  },
  {
   "cell_type": "code",
   "execution_count": 76,
   "id": "81e0d729-5591-4c34-95e1-5780d010b32d",
   "metadata": {},
   "outputs": [],
   "source": [
    "\n",
    "user1_alice[2683] = 5   # Blue Valentine\n",
    "user1_alice[2635] = 4   # Remember Me (2010)\n",
    "user1_alice[2654] = 5   # Date Night (2010)\n",
    "user1_alice[2884] = 4   # Just Go with It\n",
    "user1_alice[2970] = 4   # Crazy, Stupid, Love.\n",
    "user1_alice[2971] = 4   # One Day\n",
    "user1_alice[2977] = 4   # Friends with Benefits (2011)\n",
    "user1_alice[2933] = 5   # Midnight in Paris\n",
    "\n",
    "user1_alice[929]  = 2.5  # Lord of the Rings: The Return of the King, The\n",
    "user1_alice[3843]  = 3   # The Hobbit: The Battle of the Five Armies (2014)\n",
    "user1_alice[4208]  = 1   # Iron Man & Hulk: Heroes United (2013)\n",
    "user1_alice[4758]  = 1   # Mission: Impossible - Fallout (2018)\n",
    "user1_alice[2716] = 3 # Inception\n",
    "user1_alice[1150] = 0.5   # Incredibles, The (2004)\n",
    "user1_alice[366]  = 1   # Harry Potter and the Sorcerer's Stone (a.k.a. Harry Potter and the Philosopher's Stone) (2001)\n",
    "user1_alice[622]  = 1   # Harry Potter and the Chamber of Secrets (2002)\n",
    "user1_alice[793]  = 2   # Pirates of the Caribbean: The Curse of the Black Pearl (2003)"
   ]
  },
  {
   "cell_type": "markdown",
   "id": "42441fc1-a284-40e4-a386-30c5746c6539",
   "metadata": {},
   "source": [
    "### Movies Bob seems to enjoy"
   ]
  },
  {
   "cell_type": "code",
   "execution_count": 77,
   "id": "34ee6eb1-fd2d-4e25-8bba-e19bbf783601",
   "metadata": {},
   "outputs": [],
   "source": [
    "\n",
    "user2_bob[929]  = 3  # Lord of the Rings: The Return of the King, The\n",
    "user2_bob[3843]  = 5   # The Hobbit: The Battle of the Five Armies (2014)\n",
    "user2_bob[4208]  = 5   # Iron Man & Hulk: Heroes United (2013)\n",
    "user2_bob[4758]  = 4   # Mission: Impossible - Fallout (2018)\n",
    "user2_bob[2716] = 5  # Inception\n",
    "user2_bob[1150] = 4   # Incredibles, The (2004)\n",
    "user2_bob[366]  = 4   # Harry Potter and the Sorcerer's Stone (a.k.a. Harry Potter and the Philosopher's Stone) (2001)\n",
    "user2_bob[622]  = 4   # Harry Potter and the Chamber of Secrets (2002)\n",
    "user2_bob[793]  = 5   # Pirates of the Caribbean: The Curse of the Black Pearl (2003)\n",
    "\n",
    "user2_bob[2683] = 1   # Blue Valentine\n",
    "user2_bob[2635] = 2   # Remember Me (2010)\n",
    "user2_bob[2654] = 2  # Date Night (2010)\n",
    "user2_bob[2884] = 2.4  # Just Go with It\n",
    "user2_bob[2970] = 3   # Crazy, Stupid, Love.\n",
    "user2_bob[2971] = 2   # One Day\n",
    "user2_bob[2977] = 1   # Friends with Benefits (2011)\n",
    "user2_bob[2933] = 1   # Midnight in Paris"
   ]
  },
  {
   "cell_type": "code",
   "execution_count": 78,
   "id": "97a7f29f-46d9-40eb-ac3a-22c16314f4fb",
   "metadata": {},
   "outputs": [],
   "source": [
    "alice_rated = [i for i in range(len(user1_alice)) if user1_alice[i] > 0]\n",
    "bob_rated = [i for i in range(len(user2_bob)) if user2_bob[i] > 0]"
   ]
  },
  {
   "cell_type": "code",
   "execution_count": 79,
   "id": "9ee947e1-6b0c-42c3-b92b-003f716ec82c",
   "metadata": {},
   "outputs": [
    {
     "name": "stdout",
     "output_type": "stream",
     "text": [
      "\n",
      "New user Alice ratings\n",
      "\n",
      "Rated 1.0 for  Harry Potter and the Sorcerer's Stone (a.k.a. Harry Potter and the Philosopher's Stone) (2001)\n",
      "Rated 1.0 for  Harry Potter and the Chamber of Secrets (2002)\n",
      "Rated 2.0 for  Pirates of the Caribbean: The Curse of the Black Pearl (2003)\n",
      "Rated 2.5 for  Lord of the Rings: The Return of the King, The (2003)\n",
      "Rated 0.5 for  Incredibles, The (2004)\n",
      "Rated 4.0 for  Remember Me (2010)\n",
      "Rated 5.0 for  Date Night (2010)\n",
      "Rated 5.0 for  Blue Valentine (2010)\n",
      "Rated 3.0 for  Inception (2010)\n",
      "Rated 4.0 for  Just Go with It (2011)\n",
      "Rated 5.0 for  Midnight in Paris (2011)\n",
      "Rated 4.0 for  Crazy, Stupid, Love. (2011)\n",
      "Rated 4.0 for  One Day (2011)\n",
      "Rated 4.0 for  Friends with Benefits (2011)\n",
      "Rated 3.0 for  The Hobbit: The Battle of the Five Armies (2014)\n",
      "Rated 1.0 for  Iron Man & Hulk: Heroes United (2013)\n",
      "Rated 1.0 for  Mission: Impossible - Fallout (2018)\n"
     ]
    }
   ],
   "source": [
    "print('\\nNew user Alice ratings\\n')\n",
    "for i in range( len(user1_alice) ):\n",
    "    if user1_alice[i] > 0 :\n",
    "      print(f'Rated {user1_alice[i]} for  {movieList_df.loc[i,\"title\"]}');"
   ]
  },
  {
   "cell_type": "code",
   "execution_count": 80,
   "id": "2a3d8717-ff96-414c-ab5e-b3e86d64a2e0",
   "metadata": {},
   "outputs": [],
   "source": [
    "# Combine new users' ratings as columns\n",
    "new_users = np.array([\n",
    "    user1_alice, \n",
    "    user2_bob\n",
    "]).T  # Transpose to make them columns"
   ]
  },
  {
   "cell_type": "code",
   "execution_count": 81,
   "id": "98497ff3-267a-4d31-8594-2f7340a91620",
   "metadata": {},
   "outputs": [],
   "source": [
    "# Reload ratings\n",
    "Y, R = load_ratings_small()"
   ]
  },
  {
   "cell_type": "code",
   "execution_count": 82,
   "id": "fd87ebed-9e10-4ff1-a75f-9b15babaa967",
   "metadata": {},
   "outputs": [],
   "source": [
    "# Add new user ratings to Y \n",
    "Y = np.c_[new_users, Y]"
   ]
  },
  {
   "cell_type": "code",
   "execution_count": 83,
   "id": "e2300867-8202-4b76-b3aa-b59aa5ffd034",
   "metadata": {},
   "outputs": [],
   "source": [
    "# Add new user indicator matrix to R\n",
    "new_R = (new_users != 0).astype(int)\n",
    "R = np.c_[new_R, R]"
   ]
  },
  {
   "cell_type": "markdown",
   "id": "73d08cb0-e8e9-4414-942c-040fb127f21b",
   "metadata": {},
   "source": [
    "### normalizing the dataset to reduce bias ratings"
   ]
  },
  {
   "cell_type": "code",
   "execution_count": 84,
   "id": "cc4a2329-c8dd-41a0-a8e3-dc1d86d9835b",
   "metadata": {},
   "outputs": [],
   "source": [
    "    def normalizeRatings(Y, R):\n",
    "        Ymean = (np.sum(Y*R,axis=1)/(np.sum(R, axis=1)+1e-12)).reshape(-1,1)\n",
    "        Ynorm = Y - np.multiply(Ymean, R) \n",
    "        return(Ynorm, Ymean)"
   ]
  },
  {
   "cell_type": "code",
   "execution_count": 85,
   "id": "880bbee1-2d88-4571-853a-3d3745f99a48",
   "metadata": {},
   "outputs": [],
   "source": [
    "# Normalize the Dataset\n",
    "Ynorm, Ymean = normalizeRatings(Y, R)"
   ]
  },
  {
   "cell_type": "code",
   "execution_count": 86,
   "id": "c022e1fd-36f3-4f6a-afa5-ec395e77aa2b",
   "metadata": {},
   "outputs": [],
   "source": [
    "num_movies, num_users = Y.shape\n",
    "num_features = 100"
   ]
  },
  {
   "cell_type": "code",
   "execution_count": 87,
   "id": "7df8a118-4fa0-41aa-a1a0-f447c19e9bcb",
   "metadata": {},
   "outputs": [],
   "source": [
    "# Set Initial Parameters (W, X), use tf.Variable to track these variables\n",
    "tf.random.set_seed(1234) # for consistent results\n",
    "W = tf.Variable(tf.random.normal((num_users,  num_features),dtype=tf.float64),  name='W')\n",
    "X = tf.Variable(tf.random.normal((num_movies, num_features),dtype=tf.float64),  name='X')\n",
    "b = tf.Variable(tf.random.normal((1,          num_users),   dtype=tf.float64),  name='b')"
   ]
  },
  {
   "cell_type": "code",
   "execution_count": 88,
   "id": "73011a3c-e1ef-446d-b540-cbb6922f4078",
   "metadata": {},
   "outputs": [],
   "source": [
    "# Instantiate an optimizer.\n",
    "optimizer = keras.optimizers.Adam(learning_rate=1e-1)"
   ]
  },
  {
   "cell_type": "code",
   "execution_count": 89,
   "id": "d37f7cd1-c719-4ab9-a635-decbf4a23abf",
   "metadata": {},
   "outputs": [
    {
     "name": "stdout",
     "output_type": "stream",
     "text": [
      "Training loss at iteration 0: 2295067.6\n",
      "Training loss at iteration 20: 134543.7\n",
      "Training loss at iteration 40: 51158.8\n",
      "Training loss at iteration 60: 24227.4\n",
      "Training loss at iteration 80: 13411.8\n",
      "Training loss at iteration 100: 8358.4\n",
      "Training loss at iteration 120: 5727.3\n",
      "Training loss at iteration 140: 4257.6\n",
      "Training loss at iteration 160: 3396.4\n",
      "Training loss at iteration 180: 2872.8\n"
     ]
    }
   ],
   "source": [
    "iterations = 200\n",
    "lambda_ = 1\n",
    "for iter in range(iterations):\n",
    "    # Use TensorFlow’s GradientTape\n",
    "    # to record the operations used to compute the cost \n",
    "    with tf.GradientTape() as tape:\n",
    "\n",
    "        # Compute the cost (forward pass included in cost)\n",
    "        cost_value = cofi_cost_func_with_tensorFlow(X, W, b, Ynorm, R, lambda_)\n",
    "\n",
    "    # Use the gradient tape to automatically retrieve\n",
    "    # the gradients of the trainable variables with respect to the loss\n",
    "    grads = tape.gradient( cost_value, [X,W,b] )\n",
    "\n",
    "    # Run one step of gradient descent by updating\n",
    "    # the value of the variables to minimize the loss.\n",
    "    optimizer.apply_gradients( zip(grads, [X,W,b]) )\n",
    "\n",
    "    # Log periodically.\n",
    "    if iter % 20 == 0:\n",
    "        print(f\"Training loss at iteration {iter}: {cost_value:0.1f}\")"
   ]
  },
  {
   "cell_type": "code",
   "execution_count": 90,
   "id": "6f7911ab-d7b6-49d0-82a7-b61e0a1841af",
   "metadata": {},
   "outputs": [],
   "source": [
    "# Make a prediction using trained weights and biases\n",
    "p = tf.matmul(X, W, transpose_b=True) + b"
   ]
  },
  {
   "cell_type": "code",
   "execution_count": 91,
   "id": "304c138b-91ff-4914-a8c8-46ab3acde03d",
   "metadata": {},
   "outputs": [],
   "source": [
    "#restore the mean\n",
    "pm = p + Ymean"
   ]
  },
  {
   "cell_type": "code",
   "execution_count": 92,
   "id": "096e4a53-e284-4817-8a48-0c6de67adbad",
   "metadata": {},
   "outputs": [],
   "source": [
    "# Get predictions for any user by their index\n",
    "def get_user_predictions(user_index):\n",
    "    return pm[:, user_index]"
   ]
  },
  {
   "cell_type": "code",
   "execution_count": 93,
   "id": "0d1cdaf1-2aec-4f64-b3fa-b07ed6e676e7",
   "metadata": {},
   "outputs": [],
   "source": [
    "alice_predictions = get_user_predictions(0)\n",
    "bob_predictions = get_user_predictions(1)"
   ]
  },
  {
   "cell_type": "code",
   "execution_count": 94,
   "id": "a4d189a4-5869-42b8-9af0-1a4522136401",
   "metadata": {},
   "outputs": [],
   "source": [
    "# sort predictions\n",
    "alice_ix = tf.argsort(alice_predictions, direction='DESCENDING')\n",
    "bob_ix = tf.argsort(bob_predictions, direction='DESCENDING')"
   ]
  },
  {
   "cell_type": "code",
   "execution_count": 95,
   "id": "8ed4727f-036c-486b-beb9-e1909977168f",
   "metadata": {},
   "outputs": [
    {
     "name": "stdout",
     "output_type": "stream",
     "text": [
      "Predicting rating 4.92 for movie Radio Day (2008)\n",
      "Predicting rating 4.88 for movie English Vinglish (2012)\n",
      "Predicting rating 4.86 for movie Delirium (2014)\n",
      "Predicting rating 4.85 for movie One I Love, The (2014)\n",
      "Predicting rating 4.85 for movie Laggies (2014)\n",
      "Predicting rating 4.85 for movie Into the Forest of Fireflies' Light (2011)\n",
      "Predicting rating 4.84 for movie Son of the Bride (Hijo de la novia, El) (2001)\n",
      "Predicting rating 4.84 for movie Eichmann (2007)\n",
      "Predicting rating 4.84 for movie Battle Royale 2: Requiem (Batoru rowaiaru II: Chinkonka) (2003)\n",
      "Predicting rating 4.84 for movie Into the Abyss (2011)\n",
      "Predicting rating 4.84 for movie Louis Theroux: Law & Disorder (2008)\n",
      "Predicting rating 4.82 for movie O Brother, Where Art Thou? (2000)\n",
      "Predicting rating 4.81 for movie Max Manus (2008)\n",
      "Predicting rating 4.80 for movie A Detective Story (2003)\n",
      "Predicting rating 4.80 for movie Superman/Batman: Public Enemies (2009)\n",
      "Predicting rating 4.80 for movie Faster (2010)\n"
     ]
    }
   ],
   "source": [
    "for i in range(17):\n",
    "    j = alice_ix[i]\n",
    "    if j not in alice_rated:\n",
    "        print(f'Predicting rating {alice_predictions[j]:0.2f} for movie {movieList[j]}')"
   ]
  },
  {
   "cell_type": "code",
   "execution_count": 96,
   "id": "c52c1a7c-30c9-496f-92d2-c729db6a9d8a",
   "metadata": {},
   "outputs": [
    {
     "name": "stdout",
     "output_type": "stream",
     "text": [
      "Predicting rating 4.66 for movie Odd Life of Timothy Green, The (2012)\n",
      "Predicting rating 4.65 for movie Martin Lawrence Live: Runteldat (2002)\n",
      "Predicting rating 4.63 for movie Tyler Perry's I Can Do Bad All by Myself (2009)\n",
      "Predicting rating 4.63 for movie Nine Lives of Tomas Katz, The (2000)\n",
      "Predicting rating 4.62 for movie Bossa Nova (2000)\n",
      "Predicting rating 4.62 for movie Satin Rouge (2002)\n",
      "Predicting rating 4.62 for movie Paper Birds (Pájaros de papel) (2010)\n",
      "Predicting rating 4.62 for movie Eva (2011)\n",
      "Predicting rating 4.61 for movie Enter the Void (2009)\n",
      "Predicting rating 4.61 for movie Unicorn City (2012)\n",
      "Predicting rating 4.61 for movie Scooby-Doo! and the Loch Ness Monster (2004)\n",
      "Predicting rating 4.61 for movie Dragons: Gift of the Night Fury (2011)\n",
      "Predicting rating 4.61 for movie My Sassy Girl (Yeopgijeogin geunyeo) (2001)\n",
      "Predicting rating 4.61 for movie 'Salem's Lot (2004)\n"
     ]
    }
   ],
   "source": [
    "for i in range(17):\n",
    "    j = bob_ix[i]\n",
    "    if j not in bob_rated:\n",
    "        print(f'Predicting rating {bob_predictions[j]:0.2f} for movie {movieList[j]}')"
   ]
  },
  {
   "cell_type": "code",
   "execution_count": 97,
   "id": "1b51052e-61a5-4ed7-976d-8185a40a289d",
   "metadata": {},
   "outputs": [
    {
     "name": "stdout",
     "output_type": "stream",
     "text": [
      "\n",
      "\n",
      "Original vs Predicted ratings:\n",
      "\n",
      "Original 1.0, Predicted 1.24 for Harry Potter and the Sorcerer's Stone (a.k.a. Harry Potter and the Philosopher's Stone) (2001)\n",
      "Original 1.0, Predicted 1.11 for Harry Potter and the Chamber of Secrets (2002)\n",
      "Original 2.0, Predicted 2.01 for Pirates of the Caribbean: The Curse of the Black Pearl (2003)\n",
      "Original 2.5, Predicted 2.66 for Lord of the Rings: The Return of the King, The (2003)\n",
      "Original 0.5, Predicted 0.78 for Incredibles, The (2004)\n",
      "Original 4.0, Predicted 3.92 for Remember Me (2010)\n",
      "Original 5.0, Predicted 4.66 for Date Night (2010)\n",
      "Original 5.0, Predicted 4.63 for Blue Valentine (2010)\n",
      "Original 3.0, Predicted 3.09 for Inception (2010)\n",
      "Original 4.0, Predicted 3.85 for Just Go with It (2011)\n",
      "Original 5.0, Predicted 4.90 for Midnight in Paris (2011)\n",
      "Original 4.0, Predicted 4.03 for Crazy, Stupid, Love. (2011)\n",
      "Original 4.0, Predicted 3.85 for One Day (2011)\n",
      "Original 4.0, Predicted 3.90 for Friends with Benefits (2011)\n",
      "Original 3.0, Predicted 2.92 for The Hobbit: The Battle of the Five Armies (2014)\n",
      "Original 1.0, Predicted 1.11 for Iron Man & Hulk: Heroes United (2013)\n",
      "Original 1.0, Predicted 1.29 for Mission: Impossible - Fallout (2018)\n"
     ]
    }
   ],
   "source": [
    "print('\\n\\nOriginal vs Predicted ratings:\\n')\n",
    "for i in range(len(user1_alice)):\n",
    "    if user1_alice[i] > 0:\n",
    "        print(f'Original {user1_alice[i]}, Predicted {alice_predictions[i]:0.2f} for {movieList[i]}')"
   ]
  },
  {
   "cell_type": "code",
   "execution_count": 98,
   "id": "4845a8bf-44f0-455a-8afe-adb364566eb8",
   "metadata": {},
   "outputs": [
    {
     "data": {
      "text/html": [
       "<div>\n",
       "<style scoped>\n",
       "    .dataframe tbody tr th:only-of-type {\n",
       "        vertical-align: middle;\n",
       "    }\n",
       "\n",
       "    .dataframe tbody tr th {\n",
       "        vertical-align: top;\n",
       "    }\n",
       "\n",
       "    .dataframe thead th {\n",
       "        text-align: right;\n",
       "    }\n",
       "</style>\n",
       "<table border=\"1\" class=\"dataframe\">\n",
       "  <thead>\n",
       "    <tr style=\"text-align: right;\">\n",
       "      <th></th>\n",
       "      <th>pred_ alice ratings</th>\n",
       "      <th>mean_rating</th>\n",
       "      <th>number of ratings</th>\n",
       "      <th>title</th>\n",
       "    </tr>\n",
       "    <tr>\n",
       "      <th>x</th>\n",
       "      <th></th>\n",
       "      <th></th>\n",
       "      <th></th>\n",
       "      <th></th>\n",
       "    </tr>\n",
       "  </thead>\n",
       "  <tbody>\n",
       "    <tr>\n",
       "      <th>1743</th>\n",
       "      <td>4.506924</td>\n",
       "      <td>4.252336</td>\n",
       "      <td>107</td>\n",
       "      <td>Departed, The (2006)</td>\n",
       "    </tr>\n",
       "    <tr>\n",
       "      <th>1242</th>\n",
       "      <td>4.419415</td>\n",
       "      <td>4.089744</td>\n",
       "      <td>39</td>\n",
       "      <td>Old Boy (2003)</td>\n",
       "    </tr>\n",
       "    <tr>\n",
       "      <th>1964</th>\n",
       "      <td>4.469798</td>\n",
       "      <td>4.060000</td>\n",
       "      <td>25</td>\n",
       "      <td>3:10 to Yuma (2007)</td>\n",
       "    </tr>\n",
       "    <tr>\n",
       "      <th>2173</th>\n",
       "      <td>4.415829</td>\n",
       "      <td>4.057692</td>\n",
       "      <td>104</td>\n",
       "      <td>WALL·E (2008)</td>\n",
       "    </tr>\n",
       "    <tr>\n",
       "      <th>3714</th>\n",
       "      <td>4.433637</td>\n",
       "      <td>4.050847</td>\n",
       "      <td>59</td>\n",
       "      <td>Guardians of the Galaxy (2014)</td>\n",
       "    </tr>\n",
       "    <tr>\n",
       "      <th>1841</th>\n",
       "      <td>4.517287</td>\n",
       "      <td>4.000000</td>\n",
       "      <td>61</td>\n",
       "      <td>Hot Fuzz (2007)</td>\n",
       "    </tr>\n",
       "    <tr>\n",
       "      <th>218</th>\n",
       "      <td>4.312077</td>\n",
       "      <td>3.934783</td>\n",
       "      <td>23</td>\n",
       "      <td>Amores Perros (Love's a Bitch) (2000)</td>\n",
       "    </tr>\n",
       "    <tr>\n",
       "      <th>1279</th>\n",
       "      <td>4.545464</td>\n",
       "      <td>3.846154</td>\n",
       "      <td>52</td>\n",
       "      <td>Million Dollar Baby (2004)</td>\n",
       "    </tr>\n",
       "    <tr>\n",
       "      <th>168</th>\n",
       "      <td>4.819536</td>\n",
       "      <td>3.808511</td>\n",
       "      <td>94</td>\n",
       "      <td>O Brother, Where Art Thou? (2000)</td>\n",
       "    </tr>\n",
       "    <tr>\n",
       "      <th>28</th>\n",
       "      <td>4.458840</td>\n",
       "      <td>3.666667</td>\n",
       "      <td>75</td>\n",
       "      <td>High Fidelity (2000)</td>\n",
       "    </tr>\n",
       "    <tr>\n",
       "      <th>2933</th>\n",
       "      <td>4.900974</td>\n",
       "      <td>3.560000</td>\n",
       "      <td>25</td>\n",
       "      <td>Midnight in Paris (2011)</td>\n",
       "    </tr>\n",
       "    <tr>\n",
       "      <th>13</th>\n",
       "      <td>4.545146</td>\n",
       "      <td>3.523810</td>\n",
       "      <td>42</td>\n",
       "      <td>Whole Nine Yards, The (2000)</td>\n",
       "    </tr>\n",
       "    <tr>\n",
       "      <th>2162</th>\n",
       "      <td>4.392941</td>\n",
       "      <td>3.444444</td>\n",
       "      <td>54</td>\n",
       "      <td>Kung Fu Panda (2008)</td>\n",
       "    </tr>\n",
       "  </tbody>\n",
       "</table>\n",
       "</div>"
      ],
      "text/plain": [
       "      pred_ alice ratings  mean_rating  number of ratings  \\\n",
       "x                                                           \n",
       "1743             4.506924     4.252336                107   \n",
       "1242             4.419415     4.089744                 39   \n",
       "1964             4.469798     4.060000                 25   \n",
       "2173             4.415829     4.057692                104   \n",
       "3714             4.433637     4.050847                 59   \n",
       "1841             4.517287     4.000000                 61   \n",
       "218              4.312077     3.934783                 23   \n",
       "1279             4.545464     3.846154                 52   \n",
       "168              4.819536     3.808511                 94   \n",
       "28               4.458840     3.666667                 75   \n",
       "2933             4.900974     3.560000                 25   \n",
       "13               4.545146     3.523810                 42   \n",
       "2162             4.392941     3.444444                 54   \n",
       "\n",
       "                                      title  \n",
       "x                                            \n",
       "1743                   Departed, The (2006)  \n",
       "1242                         Old Boy (2003)  \n",
       "1964                    3:10 to Yuma (2007)  \n",
       "2173                          WALL·E (2008)  \n",
       "3714         Guardians of the Galaxy (2014)  \n",
       "1841                        Hot Fuzz (2007)  \n",
       "218   Amores Perros (Love's a Bitch) (2000)  \n",
       "1279             Million Dollar Baby (2004)  \n",
       "168       O Brother, Where Art Thou? (2000)  \n",
       "28                     High Fidelity (2000)  \n",
       "2933               Midnight in Paris (2011)  \n",
       "13             Whole Nine Yards, The (2000)  \n",
       "2162                   Kung Fu Panda (2008)  "
      ]
     },
     "execution_count": 98,
     "metadata": {},
     "output_type": "execute_result"
    }
   ],
   "source": [
    "filter=(movieList_df[\"number of ratings\"] > 20)\n",
    "movieList_df[\"pred_ alice ratings\"] = alice_predictions\n",
    "movieList_df = movieList_df.reindex(columns=[\"pred_ alice ratings\", \"mean_rating\", \"number of ratings\", \"title\"])\n",
    "movieList_df.loc[alice_ix[:300]].loc[filter].sort_values(\"mean_rating\", ascending=False)"
   ]
  },
  {
   "cell_type": "code",
   "execution_count": 100,
   "id": "2008915c-223d-4d21-857d-7ab7f814240f",
   "metadata": {},
   "outputs": [
    {
     "data": {
      "text/html": [
       "<div>\n",
       "<style scoped>\n",
       "    .dataframe tbody tr th:only-of-type {\n",
       "        vertical-align: middle;\n",
       "    }\n",
       "\n",
       "    .dataframe tbody tr th {\n",
       "        vertical-align: top;\n",
       "    }\n",
       "\n",
       "    .dataframe thead th {\n",
       "        text-align: right;\n",
       "    }\n",
       "</style>\n",
       "<table border=\"1\" class=\"dataframe\">\n",
       "  <thead>\n",
       "    <tr style=\"text-align: right;\">\n",
       "      <th></th>\n",
       "      <th>pred_ bob ratings</th>\n",
       "      <th>mean_rating</th>\n",
       "      <th>number of ratings</th>\n",
       "      <th>title</th>\n",
       "    </tr>\n",
       "    <tr>\n",
       "      <th>x</th>\n",
       "      <th></th>\n",
       "      <th></th>\n",
       "      <th></th>\n",
       "      <th></th>\n",
       "    </tr>\n",
       "  </thead>\n",
       "  <tbody>\n",
       "    <tr>\n",
       "      <th>793</th>\n",
       "      <td>4.932279</td>\n",
       "      <td>NaN</td>\n",
       "      <td>149</td>\n",
       "      <td>Pirates of the Caribbean: The Curse of the Bla...</td>\n",
       "    </tr>\n",
       "    <tr>\n",
       "      <th>2716</th>\n",
       "      <td>4.914659</td>\n",
       "      <td>NaN</td>\n",
       "      <td>143</td>\n",
       "      <td>Inception (2010)</td>\n",
       "    </tr>\n",
       "    <tr>\n",
       "      <th>2755</th>\n",
       "      <td>4.575467</td>\n",
       "      <td>NaN</td>\n",
       "      <td>57</td>\n",
       "      <td>Social Network, The (2010)</td>\n",
       "    </tr>\n",
       "    <tr>\n",
       "      <th>3083</th>\n",
       "      <td>4.534215</td>\n",
       "      <td>NaN</td>\n",
       "      <td>76</td>\n",
       "      <td>Dark Knight Rises, The (2012)</td>\n",
       "    </tr>\n",
       "    <tr>\n",
       "      <th>2420</th>\n",
       "      <td>4.431611</td>\n",
       "      <td>NaN</td>\n",
       "      <td>105</td>\n",
       "      <td>Up (2009)</td>\n",
       "    </tr>\n",
       "    <tr>\n",
       "      <th>352</th>\n",
       "      <td>4.388657</td>\n",
       "      <td>NaN</td>\n",
       "      <td>33</td>\n",
       "      <td>K-PAX (2001)</td>\n",
       "    </tr>\n",
       "    <tr>\n",
       "      <th>3802</th>\n",
       "      <td>4.375466</td>\n",
       "      <td>NaN</td>\n",
       "      <td>50</td>\n",
       "      <td>The Imitation Game (2014)</td>\n",
       "    </tr>\n",
       "    <tr>\n",
       "      <th>676</th>\n",
       "      <td>4.359881</td>\n",
       "      <td>NaN</td>\n",
       "      <td>75</td>\n",
       "      <td>City of God (Cidade de Deus) (2002)</td>\n",
       "    </tr>\n",
       "    <tr>\n",
       "      <th>393</th>\n",
       "      <td>4.356161</td>\n",
       "      <td>NaN</td>\n",
       "      <td>198</td>\n",
       "      <td>Lord of the Rings: The Fellowship of the Ring,...</td>\n",
       "    </tr>\n",
       "    <tr>\n",
       "      <th>1122</th>\n",
       "      <td>4.349974</td>\n",
       "      <td>NaN</td>\n",
       "      <td>77</td>\n",
       "      <td>Shaun of the Dead (2004)</td>\n",
       "    </tr>\n",
       "    <tr>\n",
       "      <th>79</th>\n",
       "      <td>4.349021</td>\n",
       "      <td>NaN</td>\n",
       "      <td>133</td>\n",
       "      <td>X-Men (2000)</td>\n",
       "    </tr>\n",
       "    <tr>\n",
       "      <th>2424</th>\n",
       "      <td>4.338538</td>\n",
       "      <td>NaN</td>\n",
       "      <td>76</td>\n",
       "      <td>Hangover, The (2009)</td>\n",
       "    </tr>\n",
       "    <tr>\n",
       "      <th>2608</th>\n",
       "      <td>4.333068</td>\n",
       "      <td>NaN</td>\n",
       "      <td>67</td>\n",
       "      <td>Shutter Island (2010)</td>\n",
       "    </tr>\n",
       "    <tr>\n",
       "      <th>1757</th>\n",
       "      <td>4.308146</td>\n",
       "      <td>NaN</td>\n",
       "      <td>90</td>\n",
       "      <td>Prestige, The (2006)</td>\n",
       "    </tr>\n",
       "    <tr>\n",
       "      <th>988</th>\n",
       "      <td>4.302959</td>\n",
       "      <td>NaN</td>\n",
       "      <td>131</td>\n",
       "      <td>Eternal Sunshine of the Spotless Mind (2004)</td>\n",
       "    </tr>\n",
       "    <tr>\n",
       "      <th>2455</th>\n",
       "      <td>4.243617</td>\n",
       "      <td>NaN</td>\n",
       "      <td>58</td>\n",
       "      <td>Harry Potter and the Half-Blood Prince (2009)</td>\n",
       "    </tr>\n",
       "    <tr>\n",
       "      <th>3618</th>\n",
       "      <td>4.242729</td>\n",
       "      <td>NaN</td>\n",
       "      <td>73</td>\n",
       "      <td>Interstellar (2014)</td>\n",
       "    </tr>\n",
       "    <tr>\n",
       "      <th>4553</th>\n",
       "      <td>4.228469</td>\n",
       "      <td>NaN</td>\n",
       "      <td>25</td>\n",
       "      <td>Logan (2017)</td>\n",
       "    </tr>\n",
       "    <tr>\n",
       "      <th>2019</th>\n",
       "      <td>4.223667</td>\n",
       "      <td>NaN</td>\n",
       "      <td>64</td>\n",
       "      <td>No Country for Old Men (2007)</td>\n",
       "    </tr>\n",
       "    <tr>\n",
       "      <th>2052</th>\n",
       "      <td>4.214213</td>\n",
       "      <td>NaN</td>\n",
       "      <td>28</td>\n",
       "      <td>There Will Be Blood (2007)</td>\n",
       "    </tr>\n",
       "    <tr>\n",
       "      <th>666</th>\n",
       "      <td>4.142849</td>\n",
       "      <td>NaN</td>\n",
       "      <td>46</td>\n",
       "      <td>Pianist, The (2002)</td>\n",
       "    </tr>\n",
       "    <tr>\n",
       "      <th>977</th>\n",
       "      <td>4.142656</td>\n",
       "      <td>NaN</td>\n",
       "      <td>23</td>\n",
       "      <td>Good bye, Lenin! (2003)</td>\n",
       "    </tr>\n",
       "    <tr>\n",
       "      <th>3782</th>\n",
       "      <td>4.100208</td>\n",
       "      <td>NaN</td>\n",
       "      <td>41</td>\n",
       "      <td>Big Hero 6 (2014)</td>\n",
       "    </tr>\n",
       "  </tbody>\n",
       "</table>\n",
       "</div>"
      ],
      "text/plain": [
       "      pred_ bob ratings  mean_rating  number of ratings  \\\n",
       "x                                                         \n",
       "793            4.932279          NaN                149   \n",
       "2716           4.914659          NaN                143   \n",
       "2755           4.575467          NaN                 57   \n",
       "3083           4.534215          NaN                 76   \n",
       "2420           4.431611          NaN                105   \n",
       "352            4.388657          NaN                 33   \n",
       "3802           4.375466          NaN                 50   \n",
       "676            4.359881          NaN                 75   \n",
       "393            4.356161          NaN                198   \n",
       "1122           4.349974          NaN                 77   \n",
       "79             4.349021          NaN                133   \n",
       "2424           4.338538          NaN                 76   \n",
       "2608           4.333068          NaN                 67   \n",
       "1757           4.308146          NaN                 90   \n",
       "988            4.302959          NaN                131   \n",
       "2455           4.243617          NaN                 58   \n",
       "3618           4.242729          NaN                 73   \n",
       "4553           4.228469          NaN                 25   \n",
       "2019           4.223667          NaN                 64   \n",
       "2052           4.214213          NaN                 28   \n",
       "666            4.142849          NaN                 46   \n",
       "977            4.142656          NaN                 23   \n",
       "3782           4.100208          NaN                 41   \n",
       "\n",
       "                                                  title  \n",
       "x                                                        \n",
       "793   Pirates of the Caribbean: The Curse of the Bla...  \n",
       "2716                                   Inception (2010)  \n",
       "2755                         Social Network, The (2010)  \n",
       "3083                      Dark Knight Rises, The (2012)  \n",
       "2420                                          Up (2009)  \n",
       "352                                        K-PAX (2001)  \n",
       "3802                          The Imitation Game (2014)  \n",
       "676                 City of God (Cidade de Deus) (2002)  \n",
       "393   Lord of the Rings: The Fellowship of the Ring,...  \n",
       "1122                           Shaun of the Dead (2004)  \n",
       "79                                         X-Men (2000)  \n",
       "2424                               Hangover, The (2009)  \n",
       "2608                              Shutter Island (2010)  \n",
       "1757                               Prestige, The (2006)  \n",
       "988        Eternal Sunshine of the Spotless Mind (2004)  \n",
       "2455      Harry Potter and the Half-Blood Prince (2009)  \n",
       "3618                                Interstellar (2014)  \n",
       "4553                                       Logan (2017)  \n",
       "2019                      No Country for Old Men (2007)  \n",
       "2052                         There Will Be Blood (2007)  \n",
       "666                                 Pianist, The (2002)  \n",
       "977                             Good bye, Lenin! (2003)  \n",
       "3782                                  Big Hero 6 (2014)  "
      ]
     },
     "execution_count": 100,
     "metadata": {},
     "output_type": "execute_result"
    }
   ],
   "source": [
    "filter=(movieList_df[\"number of ratings\"] > 20)\n",
    "movieList_df[\"pred_ bob ratings\"] = bob_predictions\n",
    "movieList_df = movieList_df.reindex(columns=[\"pred_ bob ratings\", \"mean_rating\", \"number of ratings\", \"title\"])\n",
    "movieList_df.loc[bob_ix[:300]].loc[filter].sort_values(\"mean_rating\", ascending=False)"
   ]
  },
  {
   "cell_type": "code",
   "execution_count": 101,
   "id": "ff176dc9-1fe2-46ae-863e-efb58dda7364",
   "metadata": {},
   "outputs": [],
   "source": [
    "def load_Movie_Rating_pd():\n",
    "    \"\"\" returns df with and index of movies in the order they are in in the Y matrix \"\"\"\n",
    "    df = pd.read_csv('./data/small_movie_list.csv', header=0, index_col=0,  delimiter=',', quotechar='\"')\n",
    "    mlist = df[\"mean_rating\"].to_list()\n",
    "    return(mlist)"
   ]
  },
  {
   "cell_type": "code",
   "execution_count": 102,
   "id": "bee0d5bb-8fb0-4cbd-8f09-f194d7b6c471",
   "metadata": {},
   "outputs": [],
   "source": [
    "movies_rating = load_Movie_Rating_pd()"
   ]
  },
  {
   "cell_type": "code",
   "execution_count": 103,
   "id": "28a050bf-645b-46cc-a462-58d277f90bfb",
   "metadata": {},
   "outputs": [
    {
     "name": "stdout",
     "output_type": "stream",
     "text": [
      "Alice predicted rating will be: 2.90 for No Strings Attached (2011)\n",
      "Movie average ratings is: 2.928571429\n"
     ]
    }
   ],
   "source": [
    "print(f'Alice predicted rating will be: {alice_predictions[2857]:0.2f} for {movieList[2857]}')\n",
    "print(f'Movie average ratings is: {movies_rating[2857]}')"
   ]
  },
  {
   "cell_type": "code",
   "execution_count": 104,
   "id": "af245def-008a-47c0-9f2c-e3af68e30b94",
   "metadata": {},
   "outputs": [
    {
     "name": "stdout",
     "output_type": "stream",
     "text": [
      "Bob predicted rating will be: 2.32 for No Strings Attached (2011)\n",
      "Movie average ratings is: 2.928571429\n"
     ]
    }
   ],
   "source": [
    "print(f'Bob predicted rating will be: {bob_predictions[2857]:0.2f} for {movieList[2857]}')\n",
    "print(f'Movie average ratings is: {movies_rating[2857]}')"
   ]
  },
  {
   "cell_type": "code",
   "execution_count": 105,
   "id": "081eda4e-f585-4005-9601-5980682e0f8c",
   "metadata": {},
   "outputs": [
    {
     "name": "stdout",
     "output_type": "stream",
     "text": [
      "Alice predicted rating will be: 3.73 for Hobbit: An Unexpected Journey, The (2012)\n",
      "Movie average ratings is: 3.8125\n"
     ]
    }
   ],
   "source": [
    "print(f'Alice predicted rating will be: {alice_predictions[3326]:0.2f} for {movieList[3326]}')\n",
    "print(f'Movie average ratings is: {movies_rating[3326]}')"
   ]
  },
  {
   "cell_type": "code",
   "execution_count": 106,
   "id": "5fcd312f-be6f-4a43-a79f-e0abf5066aad",
   "metadata": {},
   "outputs": [
    {
     "name": "stdout",
     "output_type": "stream",
     "text": [
      "Bob predicted rating will be: 3.61 for Hobbit: An Unexpected Journey, The (2012)\n",
      "Movie average ratings is: 3.8125\n"
     ]
    }
   ],
   "source": [
    "print(f'Bob predicted rating will be: {bob_predictions[3326]:0.2f} for {movieList[3326]}')\n",
    "print(f'Movie average ratings is: {movies_rating[3326]}')"
   ]
  },
  {
   "cell_type": "code",
   "execution_count": 60,
   "id": "55489419-4512-4535-b602-18bcc3dc32b3",
   "metadata": {},
   "outputs": [
    {
     "data": {
      "text/plain": [
       "x\n",
       "0       3.400000\n",
       "1       3.250000\n",
       "2       2.000000\n",
       "3       2.000000\n",
       "4       2.672414\n",
       "          ...   \n",
       "4773    3.500000\n",
       "4774    4.000000\n",
       "4775    3.500000\n",
       "4776    3.500000\n",
       "4777    3.500000\n",
       "Name: mean_rating, Length: 4778, dtype: float64"
      ]
     },
     "execution_count": 60,
     "metadata": {},
     "output_type": "execute_result"
    }
   ],
   "source": [
    "\n"
   ]
  },
  {
   "cell_type": "code",
   "execution_count": null,
   "id": "dab202cd-9f8b-416e-9007-08396eb66c2d",
   "metadata": {},
   "outputs": [],
   "source": []
  }
 ],
 "metadata": {
  "kernelspec": {
   "display_name": "Python 3 (ipykernel)",
   "language": "python",
   "name": "python3"
  },
  "language_info": {
   "codemirror_mode": {
    "name": "ipython",
    "version": 3
   },
   "file_extension": ".py",
   "mimetype": "text/x-python",
   "name": "python",
   "nbconvert_exporter": "python",
   "pygments_lexer": "ipython3",
   "version": "3.8.18"
  }
 },
 "nbformat": 4,
 "nbformat_minor": 5
}
